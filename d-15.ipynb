{
 "cells": [
  {
   "cell_type": "markdown",
   "metadata": {},
   "source": [
    "# class practice"
   ]
  },
  {
   "cell_type": "code",
   "execution_count": 8,
   "metadata": {},
   "outputs": [
    {
     "name": "stdout",
     "output_type": "stream",
     "text": [
      "Hello, Aishwarya, How are you doing?\n",
      "Go ahead with your issue.\n"
     ]
    }
   ],
   "source": [
    "class Amazon:\n",
    "    \"\"\"user greeting function\"\"\"\n",
    "    def user_entry(self,name):\n",
    "        self.name=name\n",
    "    def greet_user(self):\n",
    "        print(f\"Hello, {self.name}, How are you doing?\")\n",
    "    def ask_problem(self):\n",
    "        print(f\"Go ahead with your issue.\")\n",
    "        \n",
    "        \n",
    "abc=Amazon()\n",
    "abc.user_entry(\"Aishwarya\")\n",
    "abc.greet_user()\n",
    "abc.ask_problem()\n",
    "        "
   ]
  },
  {
   "cell_type": "code",
   "execution_count": null,
   "metadata": {},
   "outputs": [],
   "source": []
  }
 ],
 "metadata": {
  "kernelspec": {
   "display_name": "Python 3",
   "language": "python",
   "name": "python3"
  },
  "language_info": {
   "codemirror_mode": {
    "name": "ipython",
    "version": 3
   },
   "file_extension": ".py",
   "mimetype": "text/x-python",
   "name": "python",
   "nbconvert_exporter": "python",
   "pygments_lexer": "ipython3",
   "version": "3.7.6"
  }
 },
 "nbformat": 4,
 "nbformat_minor": 4
}
