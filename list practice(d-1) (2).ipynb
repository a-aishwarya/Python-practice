{
 "cells": [
  {
   "cell_type": "code",
   "execution_count": 3,
   "metadata": {},
   "outputs": [
    {
     "name": "stdout",
     "output_type": "stream",
     "text": [
      "languages: \n",
      "spanish\n"
     ]
    }
   ],
   "source": [
    "print('languages:','\\nspanish')  #white space concept"
   ]
  },
  {
   "cell_type": "code",
   "execution_count": 7,
   "metadata": {},
   "outputs": [
    {
     "name": "stdout",
     "output_type": "stream",
     "text": [
      "['maruti', 'audi', 'bmw', 'toyota', 'honda', 'wagonr']\n"
     ]
    }
   ],
   "source": [
    "cars=['maruti','audi','bmw','toyota','honda']  #append\n",
    "cars.append('wagonr')\n",
    "print(cars)\n",
    "\n"
   ]
  },
  {
   "cell_type": "code",
   "execution_count": 18,
   "metadata": {},
   "outputs": [
    {
     "name": "stdout",
     "output_type": "stream",
     "text": [
      "['audi', 'baleno', 'bmw', 'ciaz', 'honda', 'creta', 'maruti', 'toyota', 'wagonr']\n"
     ]
    }
   ],
   "source": [
    "cars.insert(5,'creta')  #insert\n",
    "print(cars)"
   ]
  },
  {
   "cell_type": "code",
   "execution_count": 19,
   "metadata": {},
   "outputs": [
    {
     "name": "stdout",
     "output_type": "stream",
     "text": [
      "['audi', 'baleno', 'bmw', 'ciaz', 'creta', 'honda', 'maruti', 'toyota', 'wagonr']\n",
      "['audi', 'baleno', 'bmw', 'ciaz', 'honda', 'creta', 'maruti', 'toyota', 'wagonr']\n"
     ]
    }
   ],
   "source": [
    "print(sorted(cars)) #temporary sorting\n",
    "print(cars)"
   ]
  },
  {
   "cell_type": "code",
   "execution_count": 20,
   "metadata": {},
   "outputs": [
    {
     "name": "stdout",
     "output_type": "stream",
     "text": [
      "['audi', 'baleno', 'bmw', 'ciaz', 'creta', 'honda', 'maruti', 'toyota', 'wagonr']\n"
     ]
    }
   ],
   "source": [
    "\n",
    "cars.sort()  #permamnent sorting\n",
    "print(cars)\n",
    "\n"
   ]
  },
  {
   "cell_type": "code",
   "execution_count": 27,
   "metadata": {},
   "outputs": [
    {
     "name": "stdout",
     "output_type": "stream",
     "text": [
      "['audi', 'baleno', 'bmw', 'ciaz', 'creta', 'honda', 'maruti', 'toyota', 'wagonr']\n"
     ]
    }
   ],
   "source": [
    "\n",
    "cars.insert(4,'creta')\n",
    "print(cars)\n"
   ]
  },
  {
   "cell_type": "code",
   "execution_count": 28,
   "metadata": {},
   "outputs": [
    {
     "name": "stdout",
     "output_type": "stream",
     "text": [
      "['audi', 'baleno', 'bmw', 'ciaz', 'honda', 'maruti', 'toyota', 'wagonr']\n"
     ]
    }
   ],
   "source": [
    "cars.remove('creta')  #removing by name\n",
    "print(cars)"
   ]
  },
  {
   "cell_type": "code",
   "execution_count": 29,
   "metadata": {},
   "outputs": [
    {
     "name": "stdout",
     "output_type": "stream",
     "text": [
      "['audi', 'baleno', 'bmw', 'ciaz', 'honda', 'maruti', 'toyota', 'wagonr']\n"
     ]
    }
   ],
   "source": [
    "print(cars)"
   ]
  },
  {
   "cell_type": "code",
   "execution_count": 32,
   "metadata": {},
   "outputs": [
    {
     "name": "stdout",
     "output_type": "stream",
     "text": [
      "None\n"
     ]
    }
   ],
   "source": [
    "print(cars.reverse())\n"
   ]
  },
  {
   "cell_type": "code",
   "execution_count": 33,
   "metadata": {},
   "outputs": [
    {
     "name": "stdout",
     "output_type": "stream",
     "text": [
      "8\n"
     ]
    }
   ],
   "source": [
    "print(len(cars))   #length of list car"
   ]
  },
  {
   "cell_type": "code",
   "execution_count": 41,
   "metadata": {},
   "outputs": [
    {
     "name": "stdout",
     "output_type": "stream",
     "text": [
      "the list of cars is,['audi', 'baleno', 'bmw', 'ciaz', 'honda', 'maruti', 'toyota', 'wagonr']\n"
     ]
    }
   ],
   "source": [
    "print(f\"the list of cars is,{cars}\")"
   ]
  },
  {
   "cell_type": "code",
   "execution_count": 40,
   "metadata": {},
   "outputs": [
    {
     "name": "stdout",
     "output_type": "stream",
     "text": [
      "the most beautiful car is,Ciaz\n"
     ]
    }
   ],
   "source": [
    "print(f\"the most beautiful car is,{cars[3].title()}\")\n"
   ]
  },
  {
   "cell_type": "code",
   "execution_count": null,
   "metadata": {},
   "outputs": [],
   "source": []
  }
 ],
 "metadata": {
  "kernelspec": {
   "display_name": "Python 3",
   "language": "python",
   "name": "python3"
  },
  "language_info": {
   "codemirror_mode": {
    "name": "ipython",
    "version": 3
   },
   "file_extension": ".py",
   "mimetype": "text/x-python",
   "name": "python",
   "nbconvert_exporter": "python",
   "pygments_lexer": "ipython3",
   "version": "3.7.6"
  }
 },
 "nbformat": 4,
 "nbformat_minor": 4
}
